{
 "cells": [
  {
   "cell_type": "code",
   "execution_count": 4,
   "metadata": {
    "ExecuteTime": {
     "end_time": "2021-05-24T22:40:25.473231Z",
     "start_time": "2021-05-24T22:40:25.457233Z"
    }
   },
   "outputs": [
    {
     "name": "stdout",
     "output_type": "stream",
     "text": [
      "2\n",
      "3\n",
      "4\n",
      "5\n",
      "6\n",
      "7\n",
      "8\n",
      "9\n",
      "10\n",
      "11\n",
      "12\n",
      "13\n",
      "14\n",
      "15\n",
      "16\n",
      "17\n",
      "18\n",
      "19\n"
     ]
    }
   ],
   "source": [
    "# A while loop that prints out numbers between 1 and 20\n",
    "\n",
    "\n",
    "number = 2\n",
    "while number < 20:\n",
    "    print(number)\n",
    "    number += 1\n",
    "\n"
   ]
  },
  {
   "cell_type": "code",
   "execution_count": 2,
   "metadata": {
    "ExecuteTime": {
     "end_time": "2021-05-24T22:38:50.528902Z",
     "start_time": "2021-05-24T22:38:50.512904Z"
    }
   },
   "outputs": [
    {
     "name": "stdout",
     "output_type": "stream",
     "text": [
      "2\n",
      "3\n",
      "4\n",
      "5\n",
      "6\n",
      "7\n",
      "8\n",
      "9\n",
      "10\n",
      "11\n",
      "12\n",
      "13\n",
      "14\n",
      "15\n",
      "16\n",
      "17\n",
      "18\n",
      "19\n"
     ]
    }
   ],
   "source": [
    "# A for loop that prints out numbers between 1 and 20\n",
    "\n",
    "for x in range(2, 20):\n",
    "    print(x)"
   ]
  },
  {
   "cell_type": "code",
   "execution_count": 6,
   "metadata": {
    "ExecuteTime": {
     "end_time": "2021-05-24T22:45:36.021676Z",
     "start_time": "2021-05-24T22:45:36.015679Z"
    }
   },
   "outputs": [
    {
     "name": "stdout",
     "output_type": "stream",
     "text": [
      "32\n",
      "34\n",
      "36\n",
      "38\n",
      "40\n",
      "42\n",
      "44\n",
      "46\n",
      "48\n",
      "50\n",
      "52\n",
      "54\n",
      "56\n",
      "58\n",
      "60\n",
      "62\n",
      "64\n",
      "66\n",
      "68\n"
     ]
    }
   ],
   "source": [
    "# A while loop that prints out even numbers between 30 and 70\n",
    "\n",
    "value = 32\n",
    "\n",
    "while value < 70:\n",
    "    print(value)\n",
    "    value += 2   "
   ]
  },
  {
   "cell_type": "code",
   "execution_count": 5,
   "metadata": {
    "ExecuteTime": {
     "end_time": "2021-05-24T22:41:46.040201Z",
     "start_time": "2021-05-24T22:41:46.033203Z"
    }
   },
   "outputs": [
    {
     "name": "stdout",
     "output_type": "stream",
     "text": [
      "32\n",
      "34\n",
      "36\n",
      "38\n",
      "40\n",
      "42\n",
      "44\n",
      "46\n",
      "48\n",
      "50\n",
      "52\n",
      "54\n",
      "56\n",
      "58\n",
      "60\n",
      "62\n",
      "64\n",
      "66\n",
      "68\n"
     ]
    }
   ],
   "source": [
    "# A for loop that prints out even numbers between 30 and 70\n",
    "\n",
    "for i in range(32, 70, 2):\n",
    "    print(i)\n"
   ]
  },
  {
   "cell_type": "code",
   "execution_count": 8,
   "metadata": {
    "ExecuteTime": {
     "end_time": "2021-05-24T22:59:58.239516Z",
     "start_time": "2021-05-24T22:59:58.231522Z"
    }
   },
   "outputs": [
    {
     "name": "stdout",
     "output_type": "stream",
     "text": [
      "5 times 1 = 5\n",
      "5 times 2 = 10\n",
      "5 times 3 = 15\n",
      "5 times 4 = 20\n",
      "5 times 5 = 25\n",
      "5 times 6 = 30\n",
      "5 times 7 = 35\n",
      "5 times 8 = 40\n",
      "5 times 9 = 45\n",
      "5 times 10 = 50\n",
      "5 times 11 = 55\n",
      "5 times 12 = 60\n"
     ]
    }
   ],
   "source": [
    "# A while loop program that prints multiplication table 5\n",
    "\n",
    "value = 1\n",
    "multiply = 5\n",
    "\n",
    "while value <= 12:\n",
    "    answer = value * multiply\n",
    "    print(f\"{multiply} times {value} = {answer}\")\n",
    "    value += 1\n",
    "\n",
    "\n",
    "\n"
   ]
  },
  {
   "cell_type": "code",
   "execution_count": 7,
   "metadata": {
    "ExecuteTime": {
     "end_time": "2021-05-24T22:47:30.836075Z",
     "start_time": "2021-05-24T22:47:30.830078Z"
    }
   },
   "outputs": [
    {
     "name": "stdout",
     "output_type": "stream",
     "text": [
      "5 times 1 = 5\n",
      "5 times 2 = 10\n",
      "5 times 3 = 15\n",
      "5 times 4 = 20\n",
      "5 times 5 = 25\n",
      "5 times 6 = 30\n",
      "5 times 7 = 35\n",
      "5 times 8 = 40\n",
      "5 times 9 = 45\n",
      "5 times 10 = 50\n",
      "5 times 11 = 55\n",
      "5 times 12 = 60\n"
     ]
    }
   ],
   "source": [
    "# A for loop that prints multiplication table 5\n",
    "\n",
    "multiply = 5\n",
    "for i in range(1, 13):\n",
    "    answer = i * multiply\n",
    "    print(f\"5 times {i} = {answer}\")\n"
   ]
  },
  {
   "cell_type": "code",
   "execution_count": 17,
   "metadata": {
    "ExecuteTime": {
     "end_time": "2021-05-24T23:50:26.517933Z",
     "start_time": "2021-05-24T23:50:22.901260Z"
    }
   },
   "outputs": [
    {
     "name": "stdout",
     "output_type": "stream",
     "text": [
      "Enter a number: 4\n",
      "The factorial of 4 is 24\n"
     ]
    }
   ],
   "source": [
    "# A program that accepts number input from a user and returns the factorial of the number using while loop\n",
    "\n",
    "number = int(input(\"Enter a number: \"))\n",
    "fact = 1\n",
    "i = 1\n",
    "\n",
    "while i <=number:\n",
    "    fact *= i\n",
    "    i += 1\n",
    "print(f\"The factorial of {number} is {fact}\")\n",
    "    \n"
   ]
  },
  {
   "cell_type": "code",
   "execution_count": 9,
   "metadata": {
    "ExecuteTime": {
     "end_time": "2021-05-24T23:10:12.799302Z",
     "start_time": "2021-05-24T23:10:08.494964Z"
    }
   },
   "outputs": [
    {
     "name": "stdout",
     "output_type": "stream",
     "text": [
      "Enter a number: 5\n",
      "The factorial of 5 is 120\n"
     ]
    }
   ],
   "source": [
    "# A program that accepts number input from a user and returns the factorial of the number using for loop\n",
    "\n",
    "number = int(input(\"Enter a number: \"))\n",
    "fact = 1\n",
    "for i in range(1, number+1):\n",
    "    fact *= i\n",
    "print(f\"The factorial of {number} is {fact}\")"
   ]
  }
 ],
 "metadata": {
  "hide_input": false,
  "kernelspec": {
   "display_name": "Python 3",
   "language": "python",
   "name": "python3"
  },
  "latex_envs": {
   "LaTeX_envs_menu_present": true,
   "autoclose": false,
   "autocomplete": true,
   "bibliofile": "biblio.bib",
   "cite_by": "apalike",
   "current_citInitial": 1,
   "eqLabelWithNumbers": true,
   "eqNumInitial": 1,
   "hotkeys": {
    "equation": "Ctrl-E",
    "itemize": "Ctrl-I"
   },
   "labels_anchors": false,
   "latex_user_defs": false,
   "report_style_numbering": false,
   "user_envs_cfg": false
  },
  "nbTranslate": {
   "displayLangs": [
    "*"
   ],
   "hotkey": "alt-t",
   "langInMainMenu": true,
   "sourceLang": "en",
   "targetLang": "fr",
   "useGoogleTranslate": true
  },
  "toc": {
   "base_numbering": 1,
   "nav_menu": {},
   "number_sections": true,
   "sideBar": true,
   "skip_h1_title": false,
   "title_cell": "Table of Contents",
   "title_sidebar": "Contents",
   "toc_cell": false,
   "toc_position": {},
   "toc_section_display": true,
   "toc_window_display": false
  },
  "varInspector": {
   "cols": {
    "lenName": 16,
    "lenType": 16,
    "lenVar": 40
   },
   "kernels_config": {
    "python": {
     "delete_cmd_postfix": "",
     "delete_cmd_prefix": "del ",
     "library": "var_list.py",
     "varRefreshCmd": "print(var_dic_list())"
    },
    "r": {
     "delete_cmd_postfix": ") ",
     "delete_cmd_prefix": "rm(",
     "library": "var_list.r",
     "varRefreshCmd": "cat(var_dic_list()) "
    }
   },
   "types_to_exclude": [
    "module",
    "function",
    "builtin_function_or_method",
    "instance",
    "_Feature"
   ],
   "window_display": false
  }
 },
 "nbformat": 4,
 "nbformat_minor": 2
}
