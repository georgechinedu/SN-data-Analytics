{
 "cells": [
  {
   "cell_type": "markdown",
   "metadata": {},
   "source": [
    "# ASSIGNMENT 1"
   ]
  },
  {
   "cell_type": "markdown",
   "metadata": {},
   "source": [
    "Write a simple statement to implement the usage of each of the following dictionary methods:"
   ]
  },
  {
   "cell_type": "markdown",
   "metadata": {},
   "source": [
    "1) fromkeys():\tReturns a dictionary with the specified keys and value"
   ]
  },
  {
   "cell_type": "code",
   "execution_count": 8,
   "metadata": {
    "ExecuteTime": {
     "end_time": "2021-05-29T05:12:00.181098Z",
     "start_time": "2021-05-29T05:12:00.171101Z"
    }
   },
   "outputs": [
    {
     "name": "stdout",
     "output_type": "stream",
     "text": [
      "{'A': 30, 'B': 30, 'C': 30}\n"
     ]
    }
   ],
   "source": [
    "x = (\"A\", \"B\", \"C\")\n",
    "\n",
    "y = 30\n",
    "\n",
    "record = dict.fromkeys(x, y)\n",
    "\n",
    "print(record)\n"
   ]
  },
  {
   "cell_type": "markdown",
   "metadata": {},
   "source": [
    "2) get(): Returns the value of the specified key"
   ]
  },
  {
   "cell_type": "code",
   "execution_count": 11,
   "metadata": {
    "ExecuteTime": {
     "end_time": "2021-05-29T05:16:20.375431Z",
     "start_time": "2021-05-29T05:16:20.350426Z"
    }
   },
   "outputs": [
    {
     "data": {
      "text/plain": [
       "1999"
      ]
     },
     "execution_count": 11,
     "metadata": {},
     "output_type": "execute_result"
    }
   ],
   "source": [
    "games_and_year_of_invention = {\n",
    "             \"sega mega\" : 1999,\n",
    "               \"Play station\" : 2001,\n",
    "              \"X box\" : 2015,\n",
    "              \"ending man\" : 2000 }\n",
    "\n",
    "games_and_year_of_invention.get(\"sega mega\")\n",
    "\n"
   ]
  },
  {
   "cell_type": "markdown",
   "metadata": {},
   "source": [
    "3) items():\tReturns a list containing a tuple for each key value pair"
   ]
  },
  {
   "cell_type": "code",
   "execution_count": 12,
   "metadata": {
    "ExecuteTime": {
     "end_time": "2021-05-29T05:21:39.984945Z",
     "start_time": "2021-05-29T05:21:39.969950Z"
    }
   },
   "outputs": [
    {
     "data": {
      "text/plain": [
       "dict_items([('sega mega', 1999), ('Play station', 2001), ('X box', 2015), ('ending man', 2000)])"
      ]
     },
     "execution_count": 12,
     "metadata": {},
     "output_type": "execute_result"
    }
   ],
   "source": [
    "games_and_year_of_invention = {\n",
    "             \"sega mega\" : 1999,\n",
    "               \"Play station\" : 2001,\n",
    "              \"X box\" : 2015,\n",
    "              \"ending man\" : 2000 }\n",
    "\n",
    "games_and_year_of_invention.items()"
   ]
  },
  {
   "cell_type": "markdown",
   "metadata": {},
   "source": [
    "4) keys(): Returns a list containing the dictionary's keys"
   ]
  },
  {
   "cell_type": "code",
   "execution_count": 13,
   "metadata": {
    "ExecuteTime": {
     "end_time": "2021-05-29T05:23:07.310480Z",
     "start_time": "2021-05-29T05:23:07.295481Z"
    }
   },
   "outputs": [
    {
     "data": {
      "text/plain": [
       "dict_keys(['sega mega', 'Play station', 'X box', 'ending man'])"
      ]
     },
     "execution_count": 13,
     "metadata": {},
     "output_type": "execute_result"
    }
   ],
   "source": [
    "games_and_year_of_invention = {\n",
    "             \"sega mega\" : 1999,\n",
    "               \"Play station\" : 2001,\n",
    "              \"X box\" : 2015,\n",
    "              \"ending man\" : 2000 }\n",
    "\n",
    "games_and_year_of_invention.keys()"
   ]
  },
  {
   "cell_type": "markdown",
   "metadata": {},
   "source": [
    "5) pop(): Removes the element with the specified key"
   ]
  },
  {
   "cell_type": "code",
   "execution_count": 15,
   "metadata": {
    "ExecuteTime": {
     "end_time": "2021-05-29T05:27:40.511491Z",
     "start_time": "2021-05-29T05:27:40.496493Z"
    }
   },
   "outputs": [
    {
     "data": {
      "text/plain": [
       "{'Play station': 2001, 'X box': 2015, 'ending man': 2000}"
      ]
     },
     "execution_count": 15,
     "metadata": {},
     "output_type": "execute_result"
    }
   ],
   "source": [
    "games_and_year_of_invention = {\n",
    "             \"sega mega\" : 1999,\n",
    "               \"Play station\" : 2001,\n",
    "              \"X box\" : 2015,\n",
    "              \"ending man\" : 2000 }\n",
    "\n",
    "games_and_year_of_invention.pop(\"sega mega\")\n",
    "games_and_year_of_invention"
   ]
  },
  {
   "cell_type": "markdown",
   "metadata": {},
   "source": [
    "6) popitem(): Removes the last inserted key-value pair"
   ]
  },
  {
   "cell_type": "code",
   "execution_count": 17,
   "metadata": {
    "ExecuteTime": {
     "end_time": "2021-05-29T05:29:57.726821Z",
     "start_time": "2021-05-29T05:29:57.706825Z"
    }
   },
   "outputs": [
    {
     "data": {
      "text/plain": [
       "{'sega mega': 1999, 'Play station': 2001, 'X box': 2015}"
      ]
     },
     "execution_count": 17,
     "metadata": {},
     "output_type": "execute_result"
    }
   ],
   "source": [
    "games_and_year_of_invention = {\n",
    "             \"sega mega\" : 1999,\n",
    "               \"Play station\" : 2001,\n",
    "              \"X box\" : 2015,\n",
    "              \"ending man\" : 2000 }\n",
    "\n",
    "games_and_year_of_invention.popitem()\n",
    "games_and_year_of_invention"
   ]
  },
  {
   "cell_type": "markdown",
   "metadata": {},
   "source": [
    "7) setdefault(): Returns the value of the specified key. If the key does not exist: insert the key, with the specified value"
   ]
  },
  {
   "cell_type": "code",
   "execution_count": 19,
   "metadata": {
    "ExecuteTime": {
     "end_time": "2021-05-29T05:33:12.878622Z",
     "start_time": "2021-05-29T05:33:12.863631Z"
    }
   },
   "outputs": [
    {
     "data": {
      "text/plain": [
       "{'sega mega': 1999,\n",
       " 'Play station': 2001,\n",
       " 'X box': 2015,\n",
       " 'ending man': 2000,\n",
       " 'x men': 2030}"
      ]
     },
     "execution_count": 19,
     "metadata": {},
     "output_type": "execute_result"
    }
   ],
   "source": [
    "games_and_year_of_invention = {\n",
    "             \"sega mega\" : 1999,\n",
    "               \"Play station\" : 2001,\n",
    "              \"X box\" : 2015,\n",
    "              \"ending man\" : 2000 }\n",
    "\n",
    "games_and_year_of_invention.setdefault(\"x men\", 2030)\n",
    "games_and_year_of_invention"
   ]
  },
  {
   "cell_type": "markdown",
   "metadata": {},
   "source": [
    "8) update(): Updates the dictionary with the specified key-value pairs"
   ]
  },
  {
   "cell_type": "code",
   "execution_count": 24,
   "metadata": {
    "ExecuteTime": {
     "end_time": "2021-05-29T05:37:37.499436Z",
     "start_time": "2021-05-29T05:37:37.484431Z"
    }
   },
   "outputs": [
    {
     "data": {
      "text/plain": [
       "{'sega mega': 1999,\n",
       " 'Play station': 2001,\n",
       " 'X box': 2015,\n",
       " 'ending man': 2000,\n",
       " 'mortal kombat': 2019}"
      ]
     },
     "execution_count": 24,
     "metadata": {},
     "output_type": "execute_result"
    }
   ],
   "source": [
    "games_and_year_of_invention = {\n",
    "             \"sega mega\" : 1999,\n",
    "               \"Play station\" : 2001,\n",
    "              \"X box\" : 2015,\n",
    "              \"ending man\" : 2000 }\n",
    "\n",
    "\n",
    "games_and_year_of_invention.update({\"mortal kombat\": 2019})\n",
    "games_and_year_of_invention"
   ]
  },
  {
   "cell_type": "markdown",
   "metadata": {},
   "source": [
    "9) values():\tReturns a list of all the values in the dictionary"
   ]
  },
  {
   "cell_type": "code",
   "execution_count": 25,
   "metadata": {
    "ExecuteTime": {
     "end_time": "2021-05-29T05:38:55.100388Z",
     "start_time": "2021-05-29T05:38:55.090390Z"
    }
   },
   "outputs": [
    {
     "data": {
      "text/plain": [
       "dict_values([1999, 2001, 2015, 2000])"
      ]
     },
     "execution_count": 25,
     "metadata": {},
     "output_type": "execute_result"
    }
   ],
   "source": [
    "games_and_year_of_invention = {\n",
    "             \"sega mega\" : 1999,\n",
    "               \"Play station\" : 2001,\n",
    "              \"X box\" : 2015,\n",
    "              \"ending man\" : 2000 }\n",
    "\n",
    "games_and_year_of_invention.values()"
   ]
  },
  {
   "cell_type": "markdown",
   "metadata": {},
   "source": [
    "# ASSIGNMENT 2"
   ]
  },
  {
   "cell_type": "markdown",
   "metadata": {},
   "source": [
    "Write a program that append items in apple list to fruit list using append method.\n",
    "fruit = [\"apple\"]\n",
    "apple = [\"apple1\", \"apple2\", \"apple3\", \"apple4\"]"
   ]
  },
  {
   "cell_type": "code",
   "execution_count": 27,
   "metadata": {
    "ExecuteTime": {
     "end_time": "2021-05-29T05:51:09.289639Z",
     "start_time": "2021-05-29T05:51:09.283643Z"
    }
   },
   "outputs": [
    {
     "name": "stdout",
     "output_type": "stream",
     "text": [
      "['apple', 'apple1', 'apple2', 'apple3', 'apple4']\n"
     ]
    }
   ],
   "source": [
    "fruit = [\"apple\"]\n",
    "apple = [\"apple1\", \"apple2\", \"apple3\", \"apple4\"]\n",
    "\n",
    "for items in apple:\n",
    "    fruit.append(items)\n",
    "    \n",
    "print(fruit)"
   ]
  }
 ],
 "metadata": {
  "hide_input": false,
  "kernelspec": {
   "display_name": "Python 3",
   "language": "python",
   "name": "python3"
  },
  "latex_envs": {
   "LaTeX_envs_menu_present": true,
   "autoclose": false,
   "autocomplete": true,
   "bibliofile": "biblio.bib",
   "cite_by": "apalike",
   "current_citInitial": 1,
   "eqLabelWithNumbers": true,
   "eqNumInitial": 1,
   "hotkeys": {
    "equation": "Ctrl-E",
    "itemize": "Ctrl-I"
   },
   "labels_anchors": false,
   "latex_user_defs": false,
   "report_style_numbering": false,
   "user_envs_cfg": false
  },
  "nbTranslate": {
   "displayLangs": [
    "*"
   ],
   "hotkey": "alt-t",
   "langInMainMenu": true,
   "sourceLang": "en",
   "targetLang": "fr",
   "useGoogleTranslate": true
  },
  "toc": {
   "base_numbering": 1,
   "nav_menu": {},
   "number_sections": true,
   "sideBar": true,
   "skip_h1_title": false,
   "title_cell": "Table of Contents",
   "title_sidebar": "Contents",
   "toc_cell": false,
   "toc_position": {},
   "toc_section_display": true,
   "toc_window_display": false
  },
  "varInspector": {
   "cols": {
    "lenName": 16,
    "lenType": 16,
    "lenVar": 40
   },
   "kernels_config": {
    "python": {
     "delete_cmd_postfix": "",
     "delete_cmd_prefix": "del ",
     "library": "var_list.py",
     "varRefreshCmd": "print(var_dic_list())"
    },
    "r": {
     "delete_cmd_postfix": ") ",
     "delete_cmd_prefix": "rm(",
     "library": "var_list.r",
     "varRefreshCmd": "cat(var_dic_list()) "
    }
   },
   "types_to_exclude": [
    "module",
    "function",
    "builtin_function_or_method",
    "instance",
    "_Feature"
   ],
   "window_display": false
  }
 },
 "nbformat": 4,
 "nbformat_minor": 2
}
