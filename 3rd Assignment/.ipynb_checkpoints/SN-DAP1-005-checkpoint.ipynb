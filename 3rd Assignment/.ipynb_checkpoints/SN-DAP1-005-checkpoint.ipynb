{
 "cells": [
  {
   "cell_type": "markdown",
   "metadata": {},
   "source": [
    "# Write a report on 15 string methods"
   ]
  },
  {
   "cell_type": "markdown",
   "metadata": {},
   "source": [
    "1) find(value, start, end): returns the first occurrence of a specified value in a string.This method returns -1 if the value is not found.\n",
    "\n",
    "use case: if the system will have to check the position of a character in a string.\n"
   ]
  },
  {
   "cell_type": "code",
   "execution_count": 3,
   "metadata": {
    "ExecuteTime": {
     "end_time": "2021-05-17T17:01:54.819181Z",
     "start_time": "2021-05-17T17:01:54.803182Z"
    }
   },
   "outputs": [
    {
     "name": "stdout",
     "output_type": "stream",
     "text": [
      "1\n"
     ]
    }
   ],
   "source": [
    "a = \"elephant\"\n",
    "print(a.find(\"l\"))"
   ]
  },
  {
   "cell_type": "markdown",
   "metadata": {},
   "source": [
    "2) capitalize(): returns a string with the first character capitalized.\n",
    "\n",
    "use case: if the system will have to produce a string with the first letter in capital.\n"
   ]
  },
  {
   "cell_type": "code",
   "execution_count": 4,
   "metadata": {
    "ExecuteTime": {
     "end_time": "2021-05-17T17:07:49.243089Z",
     "start_time": "2021-05-17T17:07:49.227090Z"
    }
   },
   "outputs": [
    {
     "name": "stdout",
     "output_type": "stream",
     "text": [
      "Elephant\n"
     ]
    }
   ],
   "source": [
    "a = \"elephant\"\n",
    "print(a.capitalize())"
   ]
  },
  {
   "cell_type": "markdown",
   "metadata": {},
   "source": [
    "3) casefold(): returns a string with all characters non-capitalized.\n",
    "\n",
    "use case: if the system will have to produce a non-capitalized string.\n"
   ]
  },
  {
   "cell_type": "code",
   "execution_count": 5,
   "metadata": {
    "ExecuteTime": {
     "end_time": "2021-05-17T17:08:00.173119Z",
     "start_time": "2021-05-17T17:08:00.165124Z"
    }
   },
   "outputs": [
    {
     "name": "stdout",
     "output_type": "stream",
     "text": [
      "elephant\n"
     ]
    }
   ],
   "source": [
    "a = \"ELEPHANT\"\n",
    "print(a.casefold())"
   ]
  },
  {
   "cell_type": "markdown",
   "metadata": {},
   "source": [
    "4) count(value, start, end): returns the number of occurrences of a value in a string.\n",
    "\n",
    "use case: if the system will have to check the number of times a value is found in a string.\n"
   ]
  },
  {
   "cell_type": "code",
   "execution_count": 6,
   "metadata": {
    "ExecuteTime": {
     "end_time": "2021-05-17T17:08:08.570763Z",
     "start_time": "2021-05-17T17:08:08.562766Z"
    }
   },
   "outputs": [
    {
     "name": "stdout",
     "output_type": "stream",
     "text": [
      "4\n"
     ]
    }
   ],
   "source": [
    "a = \"An elephant is a huge animal\"\n",
    "print(a.count('a'))"
   ]
  },
  {
   "cell_type": "markdown",
   "metadata": {},
   "source": [
    "5) center(length, character): returns a centrally aligned string with as specified character or a space as the default character.\n",
    "\n",
    "use case: if the system will produce a centrally aligned string surrounded by a space or a character.\n"
   ]
  },
  {
   "cell_type": "code",
   "execution_count": 7,
   "metadata": {
    "ExecuteTime": {
     "end_time": "2021-05-17T17:08:18.667226Z",
     "start_time": "2021-05-17T17:08:18.659229Z"
    }
   },
   "outputs": [
    {
     "name": "stdout",
     "output_type": "stream",
     "text": [
      "obusinesso\n"
     ]
    }
   ],
   "source": [
    "\n",
    "y= \"business\"\n",
    "print(y.center(10,\"o\"))"
   ]
  },
  {
   "cell_type": "markdown",
   "metadata": {},
   "source": [
    "6) endswith(value, start, end): returns True if the string ends with the specified value.\n",
    "\n",
    "use case: if the system will have to check if a string ends with the specified  value.\n",
    "\n"
   ]
  },
  {
   "cell_type": "code",
   "execution_count": 8,
   "metadata": {
    "ExecuteTime": {
     "end_time": "2021-05-17T17:08:28.907936Z",
     "start_time": "2021-05-17T17:08:28.899940Z"
    }
   },
   "outputs": [
    {
     "name": "stdout",
     "output_type": "stream",
     "text": [
      "True\n"
     ]
    }
   ],
   "source": [
    "x= \"Hello, welcome to my world.\"\n",
    "print(x.endswith(\"w\", 5, 8 ))\n"
   ]
  },
  {
   "cell_type": "markdown",
   "metadata": {},
   "source": [
    "7) index(value, start, end): returns the first occurrence of a specified value in a string.\n",
    "\n",
    "use case: if the system will have to check the position of a character in a string.\n"
   ]
  },
  {
   "cell_type": "code",
   "execution_count": 9,
   "metadata": {
    "ExecuteTime": {
     "end_time": "2021-05-17T17:08:34.955581Z",
     "start_time": "2021-05-17T17:08:34.939582Z"
    }
   },
   "outputs": [
    {
     "name": "stdout",
     "output_type": "stream",
     "text": [
      "6\n"
     ]
    }
   ],
   "source": [
    "y= \"business\"\n",
    "print(y.index(\"s\", 3,  7))"
   ]
  },
  {
   "cell_type": "markdown",
   "metadata": {},
   "source": [
    "8) isalnum(): returns True if a string contains alphabets and numbers only.\n",
    "\n",
    "use case: if the system will have to check if a string contains only alphanumeric characters.\n",
    "\n"
   ]
  },
  {
   "cell_type": "code",
   "execution_count": 10,
   "metadata": {
    "ExecuteTime": {
     "end_time": "2021-05-17T17:08:41.021079Z",
     "start_time": "2021-05-17T17:08:41.013082Z"
    }
   },
   "outputs": [
    {
     "name": "stdout",
     "output_type": "stream",
     "text": [
      "True\n"
     ]
    }
   ],
   "source": [
    "y= \"business234\"\n",
    "print(y.isalnum())"
   ]
  },
  {
   "cell_type": "markdown",
   "metadata": {},
   "source": [
    "9) isalpha(): returns True if a string contains alphabets only.\n",
    "\n",
    "use case: if the system will have to check if a string contains only alpha characters.\n"
   ]
  },
  {
   "cell_type": "code",
   "execution_count": 11,
   "metadata": {
    "ExecuteTime": {
     "end_time": "2021-05-17T17:08:50.415797Z",
     "start_time": "2021-05-17T17:08:50.407797Z"
    }
   },
   "outputs": [
    {
     "name": "stdout",
     "output_type": "stream",
     "text": [
      "True\n"
     ]
    }
   ],
   "source": [
    "y= \"business\"\n",
    "print(y.isalpha())\n"
   ]
  },
  {
   "cell_type": "markdown",
   "metadata": {},
   "source": [
    "10) islower(): returns True if a string contains non-capitalized alphabets only.\n",
    "\n",
    "use case: if the system will have to check if a string contains only non-capitalized characters.\n"
   ]
  },
  {
   "cell_type": "code",
   "execution_count": 12,
   "metadata": {
    "ExecuteTime": {
     "end_time": "2021-05-17T17:08:57.405268Z",
     "start_time": "2021-05-17T17:08:57.397269Z"
    }
   },
   "outputs": [
    {
     "name": "stdout",
     "output_type": "stream",
     "text": [
      "True\n"
     ]
    }
   ],
   "source": [
    "y= 'bold'\n",
    "print(y.islower())\n"
   ]
  },
  {
   "cell_type": "markdown",
   "metadata": {},
   "source": [
    "11) lower(): returns a string with all the characters non-capitalized.\n",
    "\n",
    "use case: if the system will produce a string with all the characters in small letters.\n",
    "\n"
   ]
  },
  {
   "cell_type": "code",
   "execution_count": 13,
   "metadata": {
    "ExecuteTime": {
     "end_time": "2021-05-17T17:09:03.473887Z",
     "start_time": "2021-05-17T17:09:03.457895Z"
    }
   },
   "outputs": [
    {
     "name": "stdout",
     "output_type": "stream",
     "text": [
      "small letters\n"
     ]
    }
   ],
   "source": [
    "y= 'SMALL LETTERS'\n",
    "print(y.lower())"
   ]
  },
  {
   "cell_type": "markdown",
   "metadata": {},
   "source": [
    "12) upper(): returns a string with all the characters capitalized.\n",
    "\n",
    "use case: if the system will have to convert a string with all the characters in upper case.\n"
   ]
  },
  {
   "cell_type": "code",
   "execution_count": 14,
   "metadata": {
    "ExecuteTime": {
     "end_time": "2021-05-17T17:09:09.873616Z",
     "start_time": "2021-05-17T17:09:09.857620Z"
    }
   },
   "outputs": [
    {
     "name": "stdout",
     "output_type": "stream",
     "text": [
      "CAPITAL LETTERS\n"
     ]
    }
   ],
   "source": [
    "y= 'capital letters'\n",
    "print(y.upper())\n"
   ]
  },
  {
   "cell_type": "markdown",
   "metadata": {},
   "source": [
    "13) replace(oldvalue, newvalue, count): returns a string with a specified phrase/character replaced with another specified phrase/character.\n",
    "\n",
    "use case: if the system will have to produce a string whose characters/phrases are substituted with another character/phrases.\n"
   ]
  },
  {
   "cell_type": "code",
   "execution_count": 15,
   "metadata": {
    "ExecuteTime": {
     "end_time": "2021-05-17T17:09:16.519457Z",
     "start_time": "2021-05-17T17:09:16.503464Z"
    }
   },
   "outputs": [
    {
     "name": "stdout",
     "output_type": "stream",
     "text": [
      "Ada is a girl\n"
     ]
    }
   ],
   "source": [
    "\n",
    "y = \"Ada is a boy\"\n",
    "print(y.replace(\"boy\", \"girl\"))"
   ]
  },
  {
   "cell_type": "markdown",
   "metadata": {},
   "source": [
    "14) rfind(value, start, end): returns the last occurrence of the specified value. It returns -1 if the value is not found in the string.\n",
    "\n",
    "use case: if the system will have to check the last occurrence of a specific value in a string.\n",
    "\n"
   ]
  },
  {
   "cell_type": "code",
   "execution_count": 1,
   "metadata": {
    "ExecuteTime": {
     "end_time": "2021-05-17T16:59:59.184927Z",
     "start_time": "2021-05-17T16:59:59.168929Z"
    }
   },
   "outputs": [
    {
     "name": "stdout",
     "output_type": "stream",
     "text": [
      "17\n"
     ]
    }
   ],
   "source": [
    "\n",
    "a = \"This is the last position\"\n",
    "\n",
    "print(a.rfind('position'))"
   ]
  },
  {
   "cell_type": "markdown",
   "metadata": {},
   "source": [
    "15) rindex(value, start, end): returns the last occurrence of the specified value. \n",
    "\n",
    "use case: if the system will have to check the last occurrence of a specific value in a string."
   ]
  },
  {
   "cell_type": "code",
   "execution_count": 2,
   "metadata": {
    "ExecuteTime": {
     "end_time": "2021-05-17T17:00:56.345193Z",
     "start_time": "2021-05-17T17:00:56.337195Z"
    }
   },
   "outputs": [
    {
     "name": "stdout",
     "output_type": "stream",
     "text": [
      "22\n"
     ]
    }
   ],
   "source": [
    "a = \"This is the last position\"\n",
    "\n",
    "print(a.rindex('i', 2))"
   ]
  },
  {
   "cell_type": "code",
   "execution_count": null,
   "metadata": {},
   "outputs": [],
   "source": []
  }
 ],
 "metadata": {
  "hide_input": false,
  "kernelspec": {
   "display_name": "Python 3",
   "language": "python",
   "name": "python3"
  },
  "latex_envs": {
   "LaTeX_envs_menu_present": true,
   "autoclose": false,
   "autocomplete": true,
   "bibliofile": "biblio.bib",
   "cite_by": "apalike",
   "current_citInitial": 1,
   "eqLabelWithNumbers": true,
   "eqNumInitial": 1,
   "hotkeys": {
    "equation": "Ctrl-E",
    "itemize": "Ctrl-I"
   },
   "labels_anchors": false,
   "latex_user_defs": false,
   "report_style_numbering": false,
   "user_envs_cfg": false
  },
  "nbTranslate": {
   "displayLangs": [
    "*"
   ],
   "hotkey": "alt-t",
   "langInMainMenu": true,
   "sourceLang": "en",
   "targetLang": "fr",
   "useGoogleTranslate": true
  },
  "toc": {
   "base_numbering": 1,
   "nav_menu": {},
   "number_sections": true,
   "sideBar": true,
   "skip_h1_title": false,
   "title_cell": "Table of Contents",
   "title_sidebar": "Contents",
   "toc_cell": false,
   "toc_position": {},
   "toc_section_display": true,
   "toc_window_display": false
  },
  "varInspector": {
   "cols": {
    "lenName": 16,
    "lenType": 16,
    "lenVar": 40
   },
   "kernels_config": {
    "python": {
     "delete_cmd_postfix": "",
     "delete_cmd_prefix": "del ",
     "library": "var_list.py",
     "varRefreshCmd": "print(var_dic_list())"
    },
    "r": {
     "delete_cmd_postfix": ") ",
     "delete_cmd_prefix": "rm(",
     "library": "var_list.r",
     "varRefreshCmd": "cat(var_dic_list()) "
    }
   },
   "types_to_exclude": [
    "module",
    "function",
    "builtin_function_or_method",
    "instance",
    "_Feature"
   ],
   "window_display": false
  }
 },
 "nbformat": 4,
 "nbformat_minor": 2
}
