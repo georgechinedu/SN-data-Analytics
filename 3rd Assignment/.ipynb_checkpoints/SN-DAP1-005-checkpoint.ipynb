{
 "cells": [
  {
   "cell_type": "markdown",
   "metadata": {},
   "source": [
    "# Write a report on 15 string methods"
   ]
  },
  {
   "cell_type": "code",
   "execution_count": null,
   "metadata": {},
   "outputs": [],
   "source": [
    "find(value, start, end): returns the first occurrence of a specified value in a string.This method returns -1 if te value is not found.\n",
    "\n",
    "use case: if the system will have to check the position of a character in a string.\n",
    "\n",
    "a = \"elephant\"\n",
    "print(a.find(\"l\"))"
   ]
  },
  {
   "cell_type": "code",
   "execution_count": null,
   "metadata": {},
   "outputs": [],
   "source": [
    "capitalize(): returns a string with the first character capitalized.\n",
    "\n",
    "use case: if the system will have to produce a string with the first letter in capital.\n",
    "\n",
    "a = \"elephant\"\n",
    "print(a.capitalize())"
   ]
  },
  {
   "cell_type": "code",
   "execution_count": null,
   "metadata": {},
   "outputs": [],
   "source": [
    "casefold(): returns a string with all characters non-capitalized.\n",
    "\n",
    "use case: if the system will have to produce a non-capitalized string.\n",
    "\n",
    "a = \"ELEPHANT\"\n",
    "print(a.casefold())"
   ]
  },
  {
   "cell_type": "code",
   "execution_count": null,
   "metadata": {},
   "outputs": [],
   "source": [
    "count(value, start, end): returns the number of occurrences of a value in a string.\n",
    "\n",
    "use case: if the system will have to check the number of times a value is found in a string.\n",
    "\n",
    "a = \"An elephant is a huge animal\"\n",
    "print(a.count('a'))"
   ]
  },
  {
   "cell_type": "code",
   "execution_count": null,
   "metadata": {},
   "outputs": [],
   "source": [
    "center(length, character): returns a centrally aligned string with as specified character or a space as the default character.\n",
    "\n",
    "use case: if the system will produce a centrally aligned string surrounded by a space or a character.\n",
    "\n",
    "y= \"business\"\n",
    "print(y.center(10,\"o\"))"
   ]
  },
  {
   "cell_type": "code",
   "execution_count": null,
   "metadata": {},
   "outputs": [],
   "source": [
    "endswith(value, start, end): returns True if the string ends with the specified value.\n",
    "\n",
    "use case: if the system will have to check if a string ends with the specified  value.\n",
    "\n",
    "\n",
    "x= \"Hello, welcome to my world.\"\n",
    "print(x.endswith(\"w\", 5, 8 ))\n"
   ]
  },
  {
   "cell_type": "code",
   "execution_count": null,
   "metadata": {},
   "outputs": [],
   "source": [
    "index(value, start, end): returns the first occurrence of a specified value in a string.\n",
    "\n",
    "use case: if the system will have to check the position of a character in a string.\n",
    "\n",
    "y= \"business\"\n",
    "print(y.index(\"s\", 3,  7))\n"
   ]
  },
  {
   "cell_type": "code",
   "execution_count": null,
   "metadata": {},
   "outputs": [],
   "source": [
    "isalnum(): returns True if a string contains alphabets and numbers only.\n",
    "\n",
    "use case: if the system will have to check if a string contains only alphanumeric characters.\n",
    "\n",
    "y= \"business234\"\n",
    "print(y.isalnum())\n"
   ]
  },
  {
   "cell_type": "code",
   "execution_count": null,
   "metadata": {},
   "outputs": [],
   "source": [
    "isalpha(): returns True if a string contains alphabets only.\n",
    "\n",
    "use case: if the system will have to check if a string contains only alpha characters.\n",
    "\n",
    "y= \"business\"\n",
    "print(y.isalpha())\n"
   ]
  },
  {
   "cell_type": "code",
   "execution_count": null,
   "metadata": {},
   "outputs": [],
   "source": [
    "islower(): returns True if a string contains non-capitalized alphabets only.\n",
    "\n",
    "use case: if the system will have to check if a string contains only non-capitalized characters.\n",
    "\n",
    "y= 'bold'\n",
    "print(y.islower())\n",
    "\n"
   ]
  },
  {
   "cell_type": "code",
   "execution_count": null,
   "metadata": {},
   "outputs": [],
   "source": [
    "lower(): returns a string with all the characters non-capitalized.\n",
    "\n",
    "use case: if the system will produce a string with all the characters in small letters.\n",
    "\n",
    "y= 'SMALL LETTERS'\n",
    "print(y.lower())\n",
    "\n"
   ]
  },
  {
   "cell_type": "code",
   "execution_count": null,
   "metadata": {},
   "outputs": [],
   "source": [
    "upper(): returns a string with all the characters capitalized.\n",
    "\n",
    "use case: if the system will have to convert a string with all the characters in upper case.\n",
    "\n",
    "y= 'capital letters'\n",
    "print(y.upper())\n",
    "\n"
   ]
  },
  {
   "cell_type": "code",
   "execution_count": null,
   "metadata": {},
   "outputs": [],
   "source": [
    "replace(oldvalue, newvalue, count): returns a string with a specified phrase/character replaced with another specified phrase/character.\n",
    "\n",
    "use case: if the system will have to produce a string whose characters/phrases are substituted with another character/phrases.\n",
    "\n",
    "\n",
    "y = \"Ada is a boy\"\n",
    "print(y.replace(\"boy\", \"girl\"))"
   ]
  },
  {
   "cell_type": "code",
   "execution_count": null,
   "metadata": {},
   "outputs": [],
   "source": [
    "rfind(value, start, end): returns the last occurence of the specified value. It returns -1 if the value is not found in the string.\n",
    "\n",
    "use case: if the system will have to check the last occurrence of a specific value in a string.\n",
    "\n",
    "\n",
    "a = \"This is the last position\"\n",
    "\n",
    "print(a.rfind('position'))"
   ]
  },
  {
   "cell_type": "code",
   "execution_count": null,
   "metadata": {},
   "outputs": [],
   "source": [
    "rindex(value, start, end): returns the last occurence of the specified value. \n",
    "\n",
    "use case: if the system will have to check the last occurrence of a specific value in a string.\n",
    "\n",
    "\n",
    "a = \"This is the last position\"\n",
    "\n",
    "print(a.rindex('i', 2))"
   ]
  }
 ],
 "metadata": {
  "hide_input": false,
  "kernelspec": {
   "display_name": "Python 3",
   "language": "python",
   "name": "python3"
  },
  "latex_envs": {
   "LaTeX_envs_menu_present": true,
   "autoclose": false,
   "autocomplete": true,
   "bibliofile": "biblio.bib",
   "cite_by": "apalike",
   "current_citInitial": 1,
   "eqLabelWithNumbers": true,
   "eqNumInitial": 1,
   "hotkeys": {
    "equation": "Ctrl-E",
    "itemize": "Ctrl-I"
   },
   "labels_anchors": false,
   "latex_user_defs": false,
   "report_style_numbering": false,
   "user_envs_cfg": false
  },
  "nbTranslate": {
   "displayLangs": [
    "*"
   ],
   "hotkey": "alt-t",
   "langInMainMenu": true,
   "sourceLang": "en",
   "targetLang": "fr",
   "useGoogleTranslate": true
  },
  "toc": {
   "base_numbering": 1,
   "nav_menu": {},
   "number_sections": true,
   "sideBar": true,
   "skip_h1_title": false,
   "title_cell": "Table of Contents",
   "title_sidebar": "Contents",
   "toc_cell": false,
   "toc_position": {},
   "toc_section_display": true,
   "toc_window_display": false
  },
  "varInspector": {
   "cols": {
    "lenName": 16,
    "lenType": 16,
    "lenVar": 40
   },
   "kernels_config": {
    "python": {
     "delete_cmd_postfix": "",
     "delete_cmd_prefix": "del ",
     "library": "var_list.py",
     "varRefreshCmd": "print(var_dic_list())"
    },
    "r": {
     "delete_cmd_postfix": ") ",
     "delete_cmd_prefix": "rm(",
     "library": "var_list.r",
     "varRefreshCmd": "cat(var_dic_list()) "
    }
   },
   "types_to_exclude": [
    "module",
    "function",
    "builtin_function_or_method",
    "instance",
    "_Feature"
   ],
   "window_display": false
  }
 },
 "nbformat": 4,
 "nbformat_minor": 2
}
