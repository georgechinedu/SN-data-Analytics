{
 "cells": [
  {
   "cell_type": "markdown",
   "metadata": {},
   "source": [
    "## ASSIGNMENT"
   ]
  },
  {
   "cell_type": "code",
   "execution_count": 1,
   "metadata": {
    "ExecuteTime": {
     "end_time": "2021-06-05T04:08:15.568202Z",
     "start_time": "2021-06-05T04:08:15.558205Z"
    }
   },
   "outputs": [],
   "source": [
    "#creating a file named myfile\n",
    "\n",
    "f = open(\"myfile\", \"x\")\n"
   ]
  },
  {
   "cell_type": "code",
   "execution_count": 3,
   "metadata": {
    "ExecuteTime": {
     "end_time": "2021-06-05T04:10:49.569023Z",
     "start_time": "2021-06-05T04:10:49.559026Z"
    }
   },
   "outputs": [
    {
     "name": "stdout",
     "output_type": "stream",
     "text": [
      "\n"
     ]
    }
   ],
   "source": [
    "#opening the created file\n",
    "\n",
    "f = open(\"myfile\", \"r\")\n",
    "print(f.read())"
   ]
  },
  {
   "cell_type": "code",
   "execution_count": 9,
   "metadata": {
    "ExecuteTime": {
     "end_time": "2021-06-05T04:17:11.835133Z",
     "start_time": "2021-06-05T04:17:11.825133Z"
    }
   },
   "outputs": [],
   "source": [
    "#writing a multiplication table of 2 to the file\n",
    "\n",
    "f = open(\"myfile\", \"w\")\n",
    "for i in range(1,13):\n",
    "    answer = 2 * i\n",
    "    f.write(f\"2 x {i} = {answer} \\n\")\n",
    "    i += 1"
   ]
  },
  {
   "cell_type": "code",
   "execution_count": 10,
   "metadata": {
    "ExecuteTime": {
     "end_time": "2021-06-05T04:17:16.621968Z",
     "start_time": "2021-06-05T04:17:16.606969Z"
    }
   },
   "outputs": [
    {
     "name": "stdout",
     "output_type": "stream",
     "text": [
      "2 x 1 = 2 \n",
      "2 x 2 = 4 \n",
      "2 x 3 = 6 \n",
      "2 x 4 = 8 \n",
      "2 x 5 = 10 \n",
      "2 x 6 = 12 \n",
      "2 x 7 = 14 \n",
      "2 x 8 = 16 \n",
      "2 x 9 = 18 \n",
      "2 x 10 = 20 \n",
      "2 x 11 = 22 \n",
      "2 x 12 = 24 \n",
      "\n"
     ]
    }
   ],
   "source": [
    "#reading and printing the content of the file\n",
    "\n",
    "f = open(\"myfile\", \"r\")\n",
    "print(f.read())"
   ]
  },
  {
   "cell_type": "code",
   "execution_count": 11,
   "metadata": {
    "ExecuteTime": {
     "end_time": "2021-06-05T04:18:47.182887Z",
     "start_time": "2021-06-05T04:18:47.172888Z"
    }
   },
   "outputs": [],
   "source": [
    "#closing the file\n",
    "\n",
    "f.close()"
   ]
  }
 ],
 "metadata": {
  "hide_input": false,
  "kernelspec": {
   "display_name": "Python 3",
   "language": "python",
   "name": "python3"
  },
  "latex_envs": {
   "LaTeX_envs_menu_present": true,
   "autoclose": false,
   "autocomplete": true,
   "bibliofile": "biblio.bib",
   "cite_by": "apalike",
   "current_citInitial": 1,
   "eqLabelWithNumbers": true,
   "eqNumInitial": 1,
   "hotkeys": {
    "equation": "Ctrl-E",
    "itemize": "Ctrl-I"
   },
   "labels_anchors": false,
   "latex_user_defs": false,
   "report_style_numbering": false,
   "user_envs_cfg": false
  },
  "nbTranslate": {
   "displayLangs": [
    "*"
   ],
   "hotkey": "alt-t",
   "langInMainMenu": true,
   "sourceLang": "en",
   "targetLang": "fr",
   "useGoogleTranslate": true
  },
  "toc": {
   "base_numbering": 1,
   "nav_menu": {},
   "number_sections": true,
   "sideBar": true,
   "skip_h1_title": false,
   "title_cell": "Table of Contents",
   "title_sidebar": "Contents",
   "toc_cell": false,
   "toc_position": {},
   "toc_section_display": true,
   "toc_window_display": false
  },
  "varInspector": {
   "cols": {
    "lenName": 16,
    "lenType": 16,
    "lenVar": 40
   },
   "kernels_config": {
    "python": {
     "delete_cmd_postfix": "",
     "delete_cmd_prefix": "del ",
     "library": "var_list.py",
     "varRefreshCmd": "print(var_dic_list())"
    },
    "r": {
     "delete_cmd_postfix": ") ",
     "delete_cmd_prefix": "rm(",
     "library": "var_list.r",
     "varRefreshCmd": "cat(var_dic_list()) "
    }
   },
   "types_to_exclude": [
    "module",
    "function",
    "builtin_function_or_method",
    "instance",
    "_Feature"
   ],
   "window_display": false
  }
 },
 "nbformat": 4,
 "nbformat_minor": 2
}
