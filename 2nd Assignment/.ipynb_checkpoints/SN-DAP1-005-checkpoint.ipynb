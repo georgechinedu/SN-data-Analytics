{
 "cells": [
  {
   "cell_type": "markdown",
   "metadata": {},
   "source": [
    "1) By inserting the string into the int built-in function  i.e int(\"1000\")"
   ]
  },
  {
   "cell_type": "markdown",
   "metadata": {},
   "source": [
    "2) By inserting the floating point number into the int built-in function i.e int(3.764)"
   ]
  },
  {
   "cell_type": "code",
   "execution_count": 4,
   "metadata": {
    "ExecuteTime": {
     "end_time": "2021-05-08T05:49:20.723469Z",
     "start_time": "2021-05-08T05:49:20.707472Z"
    }
   },
   "outputs": [
    {
     "name": "stdout",
     "output_type": "stream",
     "text": [
      "$99.45 dollars\n"
     ]
    }
   ],
   "source": [
    "business_expenses = 99.45\n",
    "print(\"$\" + str(business_expenses) + \" \" + \"dollars\")\n",
    "\n"
   ]
  },
  {
   "cell_type": "markdown",
   "metadata": {},
   "source": [
    "4) The type function gives the class of an object inserted into it."
   ]
  },
  {
   "cell_type": "markdown",
   "metadata": {},
   "source": [
    "5) A Boolean is a data type with two possible values. True or False."
   ]
  },
  {
   "cell_type": "markdown",
   "metadata": {},
   "source": [
    "6) Modulus operator. It gives the remainder when a number is divided by another number/itself."
   ]
  },
  {
   "cell_type": "code",
   "execution_count": 2,
   "metadata": {
    "ExecuteTime": {
     "end_time": "2021-05-08T06:18:59.700566Z",
     "start_time": "2021-05-08T06:18:59.692572Z"
    }
   },
   "outputs": [
    {
     "name": "stdout",
     "output_type": "stream",
     "text": [
      "Chinedu Nwaozuzu\n"
     ]
    }
   ],
   "source": [
    "fancy_name = \"Chinedu Nwaozuzu\"\n",
    "print(fancy_name)\n"
   ]
  },
  {
   "cell_type": "code",
   "execution_count": 2,
   "metadata": {
    "ExecuteTime": {
     "end_time": "2021-05-08T18:56:47.744777Z",
     "start_time": "2021-05-08T18:49:35.836454Z"
    }
   },
   "outputs": [
    {
     "name": "stdout",
     "output_type": "stream",
     "text": [
      "Please enter your time in hours: 4\n",
      "The time in seconds is  14400 seconds\n"
     ]
    }
   ],
   "source": [
    "# A program that converts time in hours to seconds\n",
    "\n",
    "time_in_hours = int(input(\"Please enter your time in hours: \"))\n",
    "time_in_seconds = time_in_hours * 3600\n",
    "print(\"The time in seconds is \", time_in_seconds, \"seconds\") "
   ]
  },
  {
   "cell_type": "code",
   "execution_count": 7,
   "metadata": {
    "ExecuteTime": {
     "end_time": "2021-05-08T18:56:48.276776Z",
     "start_time": "2021-05-08T18:56:48.158849Z"
    }
   },
   "outputs": [
    {
     "data": {
      "text/plain": [
       "100"
      ]
     },
     "execution_count": 7,
     "metadata": {},
     "output_type": "execute_result"
    }
   ],
   "source": [
    "def easy_money():\n",
    "    return 100\n",
    "\n",
    "easy_money()"
   ]
  },
  {
   "cell_type": "code",
   "execution_count": 10,
   "metadata": {
    "ExecuteTime": {
     "end_time": "2021-05-08T19:01:04.151196Z",
     "start_time": "2021-05-08T19:01:04.142203Z"
    }
   },
   "outputs": [
    {
     "data": {
      "text/plain": [
       "'Sushi'"
      ]
     },
     "execution_count": 10,
     "metadata": {},
     "output_type": "execute_result"
    }
   ],
   "source": [
    "def best_food_ever():\n",
    "    return \"Sushi\"\n",
    "\n",
    "best_food_ever()"
   ]
  },
  {
   "cell_type": "code",
   "execution_count": 11,
   "metadata": {
    "ExecuteTime": {
     "end_time": "2021-05-08T19:07:15.596269Z",
     "start_time": "2021-05-08T19:07:15.588277Z"
    }
   },
   "outputs": [
    {
     "name": "stdout",
     "output_type": "stream",
     "text": [
      "$200\n"
     ]
    }
   ],
   "source": [
    "def convert_to_currency(x: int):\n",
    "    print(\"$\" + str(x))\n",
    "    \n",
    "convert_to_currency(200)"
   ]
  },
  {
   "cell_type": "code",
   "execution_count": 12,
   "metadata": {
    "ExecuteTime": {
     "end_time": "2021-05-08T19:09:07.838063Z",
     "start_time": "2021-05-08T19:09:07.830071Z"
    }
   },
   "outputs": [
    {
     "name": "stdout",
     "output_type": "stream",
     "text": [
      "Chi nedu\n"
     ]
    }
   ],
   "source": [
    "def string_adder(a = \"\", b = \" \"):\n",
    "    print(a + \" \" + b)\n",
    "\n",
    "string_adder(\"Chi\", \"nedu\")"
   ]
  },
  {
   "cell_type": "code",
   "execution_count": 14,
   "metadata": {
    "ExecuteTime": {
     "end_time": "2021-05-08T19:19:50.437450Z",
     "start_time": "2021-05-08T19:19:50.430454Z"
    }
   },
   "outputs": [
    {
     "name": "stdout",
     "output_type": "stream",
     "text": [
      "False\n"
     ]
    }
   ],
   "source": [
    "# A function that returns true if the argument has more than seven characters\n",
    "\n",
    "def long_word(t: str):\n",
    "    if len(t) > 7:\n",
    "        print(True)\n",
    "    else:\n",
    "        print(False)\n",
    "\n",
    "long_word(\"two\")"
   ]
  },
  {
   "cell_type": "code",
   "execution_count": 15,
   "metadata": {
    "ExecuteTime": {
     "end_time": "2021-05-08T19:54:02.517339Z",
     "start_time": "2021-05-08T19:54:02.507344Z"
    }
   },
   "outputs": [
    {
     "name": "stdout",
     "output_type": "stream",
     "text": [
      "True\n"
     ]
    }
   ],
   "source": [
    "# A function that returns true if the first and last chararcters of the argument entered are the same\n",
    "\n",
    "def same_first_and_last_letter(g: str):\n",
    "    if g[0] == g[-1]:\n",
    "        print(True)\n",
    "    else:\n",
    "        print(False)\n",
    "\n",
    "same_first_and_last_letter(\"JuventusJ\")"
   ]
  },
  {
   "cell_type": "code",
   "execution_count": 17,
   "metadata": {
    "ExecuteTime": {
     "end_time": "2021-05-08T19:59:19.440136Z",
     "start_time": "2021-05-08T19:59:19.433143Z"
    }
   },
   "outputs": [
    {
     "data": {
      "text/plain": [
       "'Pyt'"
      ]
     },
     "execution_count": 17,
     "metadata": {},
     "output_type": "execute_result"
    }
   ],
   "source": [
    "# A function that returns the first three letters of the argument\n",
    "\n",
    "def first_three_characters(h: str):\n",
    "    return h[0:3]\n",
    "\n",
    "first_three_characters('Python')"
   ]
  }
 ],
 "metadata": {
  "hide_input": false,
  "kernelspec": {
   "display_name": "Python 3",
   "language": "python",
   "name": "python3"
  },
  "latex_envs": {
   "LaTeX_envs_menu_present": true,
   "autoclose": false,
   "autocomplete": true,
   "bibliofile": "biblio.bib",
   "cite_by": "apalike",
   "current_citInitial": 1,
   "eqLabelWithNumbers": true,
   "eqNumInitial": 1,
   "hotkeys": {
    "equation": "Ctrl-E",
    "itemize": "Ctrl-I"
   },
   "labels_anchors": false,
   "latex_user_defs": false,
   "report_style_numbering": false,
   "user_envs_cfg": false
  },
  "nbTranslate": {
   "displayLangs": [
    "*"
   ],
   "hotkey": "alt-t",
   "langInMainMenu": true,
   "sourceLang": "en",
   "targetLang": "fr",
   "useGoogleTranslate": true
  },
  "toc": {
   "base_numbering": 1,
   "nav_menu": {},
   "number_sections": true,
   "sideBar": true,
   "skip_h1_title": false,
   "title_cell": "Table of Contents",
   "title_sidebar": "Contents",
   "toc_cell": false,
   "toc_position": {},
   "toc_section_display": true,
   "toc_window_display": false
  },
  "varInspector": {
   "cols": {
    "lenName": 16,
    "lenType": 16,
    "lenVar": 40
   },
   "kernels_config": {
    "python": {
     "delete_cmd_postfix": "",
     "delete_cmd_prefix": "del ",
     "library": "var_list.py",
     "varRefreshCmd": "print(var_dic_list())"
    },
    "r": {
     "delete_cmd_postfix": ") ",
     "delete_cmd_prefix": "rm(",
     "library": "var_list.r",
     "varRefreshCmd": "cat(var_dic_list()) "
    }
   },
   "types_to_exclude": [
    "module",
    "function",
    "builtin_function_or_method",
    "instance",
    "_Feature"
   ],
   "window_display": false
  }
 },
 "nbformat": 4,
 "nbformat_minor": 2
}
